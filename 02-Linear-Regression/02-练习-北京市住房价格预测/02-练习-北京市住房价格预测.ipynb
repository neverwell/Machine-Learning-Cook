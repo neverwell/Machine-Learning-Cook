{
 "cells": [
  {
   "cell_type": "markdown",
   "metadata": {},
   "source": [
    "## <font color='brown'>Machine-Learning-Cook</font>\n",
    "\n",
    "# 练习 2-2：北京市住房价格预测"
   ]
  },
  {
   "cell_type": "markdown",
   "metadata": {},
   "source": [
    "## 练习介绍"
   ]
  },
  {
   "cell_type": "markdown",
   "metadata": {},
   "source": [
    "本次练习中，你需要运用线性回归中的相关知识，来预测北京市的住房价格。"
   ]
  },
  {
   "cell_type": "markdown",
   "metadata": {},
   "source": [
    "## 练习知识点"
   ]
  },
  {
   "cell_type": "markdown",
   "metadata": {},
   "source": [
    "- 线性回归原理及应用\n",
    "- scikit-learn 回归预测"
   ]
  },
  {
   "cell_type": "markdown",
   "metadata": {},
   "source": [
    "---"
   ]
  },
  {
   "cell_type": "markdown",
   "metadata": {},
   "source": [
    "## 练习内容"
   ]
  },
  {
   "cell_type": "markdown",
   "metadata": {},
   "source": [
    "### 数据集读取与划分"
   ]
  },
  {
   "cell_type": "markdown",
   "metadata": {},
   "source": [
    "挑战需要下载北京市部分小区的房价数据集，该数据集的名字为 `test-1-beijing.csv`。"
   ]
  },
  {
   "cell_type": "markdown",
   "metadata": {},
   "source": [
    "<div style=\"color: #999;font-size: 12px;font-style: italic;\">* 北京市住房价格数据集来源于：[PENGZhaoqing/scrapy-HousePricing](https://github.com/PENGZhaoqing/scrapy-HousePricing)</div>"
   ]
  },
  {
   "cell_type": "markdown",
   "metadata": {},
   "source": [
    "**<font color='red'>练习</font>**：使用 Pandas 加载数据集 CSV 文件，并预览前 `5` 行数据。"
   ]
  },
  {
   "cell_type": "markdown",
   "metadata": {},
   "source": [
    "**<font color='green'>提示</font>**：使用 `pd.read_csv()` 读取 CSV 文件。"
   ]
  },
  {
   "cell_type": "code",
   "execution_count": null,
   "metadata": {},
   "outputs": [],
   "source": [
    "\"\"\"读取并预览数据集\n",
    "\"\"\"\n",
    "import pandas as pd\n",
    "\n",
    "### 代码开始 ### (≈ 2 行代码)\n",
    "df = None\n",
    "### 代码结束 ###"
   ]
  },
  {
   "cell_type": "markdown",
   "metadata": {},
   "source": [
    "<div style=\"color: #999;font-size: 12px;font-style: italic;\"><font color=\"red\">*</font> **练习说明**：你需要自行补充上方单元格中缺失的代码并运行，如果输出结果和下方的期望输出结果一致，即代表此练习顺利通过。</div>"
   ]
  },
  {
   "cell_type": "markdown",
   "metadata": {},
   "source": [
    "**期望输出：**"
   ]
  },
  {
   "cell_type": "markdown",
   "metadata": {},
   "source": [
    "<table border=\"1\" class=\"dataframe\">\n",
    "  <thead>\n",
    "    <tr style=\"text-align: right;\">\n",
    "      <th></th>\n",
    "      <th>公交</th>\n",
    "      <th>写字楼</th>\n",
    "      <th>医院</th>\n",
    "      <th>商场</th>\n",
    "      <th>地铁</th>\n",
    "      <th>学校</th>\n",
    "      <th>小区名字</th>\n",
    "      <th>建造时间</th>\n",
    "      <th>房型</th>\n",
    "      <th>楼层</th>\n",
    "      <th>每平米价格</th>\n",
    "      <th>面积</th>\n",
    "    </tr>\n",
    "  </thead>\n",
    "  <tbody>\n",
    "    <tr>\n",
    "      <th>0</th>\n",
    "      <td>18</td>\n",
    "      <td>18</td>\n",
    "      <td>10</td>\n",
    "      <td>0</td>\n",
    "      <td>2</td>\n",
    "      <td>49</td>\n",
    "      <td>远洋山水</td>\n",
    "      <td>2006</td>\n",
    "      <td>2室1厅</td>\n",
    "      <td>26</td>\n",
    "      <td>60937</td>\n",
    "      <td>96</td>\n",
    "    </tr>\n",
    "    <tr>\n",
    "      <th>1</th>\n",
    "      <td>17</td>\n",
    "      <td>42</td>\n",
    "      <td>10</td>\n",
    "      <td>0</td>\n",
    "      <td>4</td>\n",
    "      <td>37</td>\n",
    "      <td>椿树园</td>\n",
    "      <td>1998</td>\n",
    "      <td>3室1厅</td>\n",
    "      <td>14</td>\n",
    "      <td>88686</td>\n",
    "      <td>130</td>\n",
    "    </tr>\n",
    "    <tr>\n",
    "      <th>2</th>\n",
    "      <td>18</td>\n",
    "      <td>36</td>\n",
    "      <td>9</td>\n",
    "      <td>0</td>\n",
    "      <td>1</td>\n",
    "      <td>24</td>\n",
    "      <td>永乐小区</td>\n",
    "      <td>1989</td>\n",
    "      <td>3室1厅</td>\n",
    "      <td>18</td>\n",
    "      <td>46621</td>\n",
    "      <td>74</td>\n",
    "    </tr>\n",
    "    <tr>\n",
    "      <th>3</th>\n",
    "      <td>15</td>\n",
    "      <td>49</td>\n",
    "      <td>13</td>\n",
    "      <td>0</td>\n",
    "      <td>2</td>\n",
    "      <td>45</td>\n",
    "      <td>主语家园</td>\n",
    "      <td>2007</td>\n",
    "      <td>4室3厅</td>\n",
    "      <td>2</td>\n",
    "      <td>86147</td>\n",
    "      <td>462</td>\n",
    "    </tr>\n",
    "    <tr>\n",
    "      <th>4</th>\n",
    "      <td>6</td>\n",
    "      <td>0</td>\n",
    "      <td>0</td>\n",
    "      <td>0</td>\n",
    "      <td>0</td>\n",
    "      <td>0</td>\n",
    "      <td>天伦锦城</td>\n",
    "      <td>2007</td>\n",
    "      <td>1室1厅</td>\n",
    "      <td>13</td>\n",
    "      <td>42500</td>\n",
    "      <td>64</td>\n",
    "    </tr>\n",
    "  </tbody>\n",
    "</table>"
   ]
  },
  {
   "cell_type": "markdown",
   "metadata": {},
   "source": [
    "可以看到，该数据集中共包含有 `12` 列。由于线性回归需要输入数值型数据，所以我们选用的特征包括「公交，写字楼，医院，商场，地铁，学校，建造时间，楼层，面积」等 `9` 项，而「每平米价格」则是预测目标值。"
   ]
  },
  {
   "cell_type": "markdown",
   "metadata": {},
   "source": [
    "**<font color='red'>练习</font>**：对加载完成的数据集进行划分，分割为特征值 `features` 数据集和目标值 `target` 数据集。"
   ]
  },
  {
   "cell_type": "markdown",
   "metadata": {},
   "source": [
    "**<font color='green'>提示</font>**：使用 Pandas 选择数据列。"
   ]
  },
  {
   "cell_type": "code",
   "execution_count": null,
   "metadata": {},
   "outputs": [],
   "source": [
    "\"\"\"将原始数据集切片为所需数据集\n",
    "\"\"\"\n",
    "### 代码开始 ### (≈ 1 行代码)\n",
    "features = None\n",
    "target = df['每平米价格']\n",
    "### 代码结束 ###"
   ]
  },
  {
   "cell_type": "markdown",
   "metadata": {},
   "source": [
    "**运行测试：**"
   ]
  },
  {
   "cell_type": "code",
   "execution_count": null,
   "metadata": {},
   "outputs": [],
   "source": [
    "pd.concat([features, target], axis=1).head()"
   ]
  },
  {
   "cell_type": "markdown",
   "metadata": {},
   "source": [
    "**期望输出：**"
   ]
  },
  {
   "cell_type": "markdown",
   "metadata": {},
   "source": [
    "<table border=\"1\" class=\"dataframe\">\n",
    "  <thead>\n",
    "    <tr style=\"text-align: right;\">\n",
    "      <th></th>\n",
    "      <th>公交</th>\n",
    "      <th>写字楼</th>\n",
    "      <th>医院</th>\n",
    "      <th>商场</th>\n",
    "      <th>地铁</th>\n",
    "      <th>学校</th>\n",
    "      <th>建造时间</th>\n",
    "      <th>楼层</th>\n",
    "      <th>面积</th>\n",
    "      <th>每平米价格</th>\n",
    "    </tr>\n",
    "  </thead>\n",
    "  <tbody>\n",
    "    <tr>\n",
    "      <th>0</th>\n",
    "      <td>18</td>\n",
    "      <td>18</td>\n",
    "      <td>10</td>\n",
    "      <td>0</td>\n",
    "      <td>2</td>\n",
    "      <td>49</td>\n",
    "      <td>2006</td>\n",
    "      <td>26</td>\n",
    "      <td>96</td>\n",
    "      <td>60937</td>\n",
    "    </tr>\n",
    "    <tr>\n",
    "      <th>1</th>\n",
    "      <td>17</td>\n",
    "      <td>42</td>\n",
    "      <td>10</td>\n",
    "      <td>0</td>\n",
    "      <td>4</td>\n",
    "      <td>37</td>\n",
    "      <td>1998</td>\n",
    "      <td>14</td>\n",
    "      <td>130</td>\n",
    "      <td>88686</td>\n",
    "    </tr>\n",
    "    <tr>\n",
    "      <th>2</th>\n",
    "      <td>18</td>\n",
    "      <td>36</td>\n",
    "      <td>9</td>\n",
    "      <td>0</td>\n",
    "      <td>1</td>\n",
    "      <td>24</td>\n",
    "      <td>1989</td>\n",
    "      <td>18</td>\n",
    "      <td>74</td>\n",
    "      <td>46621</td>\n",
    "    </tr>\n",
    "    <tr>\n",
    "      <th>3</th>\n",
    "      <td>15</td>\n",
    "      <td>49</td>\n",
    "      <td>13</td>\n",
    "      <td>0</td>\n",
    "      <td>2</td>\n",
    "      <td>45</td>\n",
    "      <td>2007</td>\n",
    "      <td>2</td>\n",
    "      <td>462</td>\n",
    "      <td>86147</td>\n",
    "    </tr>\n",
    "    <tr>\n",
    "      <th>4</th>\n",
    "      <td>6</td>\n",
    "      <td>0</td>\n",
    "      <td>0</td>\n",
    "      <td>0</td>\n",
    "      <td>0</td>\n",
    "      <td>0</td>\n",
    "      <td>2007</td>\n",
    "      <td>13</td>\n",
    "      <td>64</td>\n",
    "      <td>42500</td>\n",
    "    </tr>\n",
    "  </tbody>\n",
    "</table>"
   ]
  },
  {
   "cell_type": "markdown",
   "metadata": {},
   "source": [
    "将原始 DataFrame 分割为特征值 `features` 和目标值 `target` 之后。我们还需要将这两个 DataFrame 划分为 `70%` 和 `30%` 的训练集和测试集。其中，训练集特征、训练集目标、测试集特征和测试集目标分别定义为：`train_x`, `train_y`, `test_x`, `test_y`。"
   ]
  },
  {
   "cell_type": "markdown",
   "metadata": {},
   "source": [
    "**<font color='red'>练习</font>**：将 `features` 和 `target`两个 DataFrame 各划分为 `70%` 和 `30%` 的训练集和测试集。"
   ]
  },
  {
   "cell_type": "markdown",
   "metadata": {},
   "source": [
    "**<font color='green'>提示</font>**：使用 Pandas 进行 DataFrame 切片。"
   ]
  },
  {
   "cell_type": "code",
   "execution_count": null,
   "metadata": {},
   "outputs": [],
   "source": [
    "split_num = int(len(df)*0.7) # 70% 分割数\n",
    "\n",
    "### 代码开始 ### (≈ 4 行代码)\n",
    "train_x = None\n",
    "train_y = None\n",
    "test_x = None\n",
    "test_y = None\n",
    "### 代码结束 ###"
   ]
  },
  {
   "cell_type": "markdown",
   "metadata": {},
   "source": [
    "**运行测试：**"
   ]
  },
  {
   "cell_type": "code",
   "execution_count": null,
   "metadata": {},
   "outputs": [],
   "source": [
    "len(train_x), len(train_y), len(test_x), len(test_y)"
   ]
  },
  {
   "cell_type": "markdown",
   "metadata": {},
   "source": [
    "**期望输出：**"
   ]
  },
  {
   "cell_type": "markdown",
   "metadata": {},
   "source": [
    "<div align=\"center\">**`(2100, 2100, 900, 900)`**</div>"
   ]
  },
  {
   "cell_type": "markdown",
   "metadata": {},
   "source": [
    "可以看到，训练集包含 `2100` 条数据，而测试集包含 `900` 条数据。"
   ]
  },
  {
   "cell_type": "markdown",
   "metadata": {},
   "source": [
    "### 线性回归模型训练及预测"
   ]
  },
  {
   "cell_type": "markdown",
   "metadata": {},
   "source": [
    "有了训练和测试数据，下面就可以开始构建机器学习模型。这里直接使用 `scikit-learn` 中的线性回归方法建立模型。"
   ]
  },
  {
   "cell_type": "markdown",
   "metadata": {},
   "source": [
    "**<font color='red'>练习</font>**：使用 `scikit-learn` 建立并训练线性回归模型。"
   ]
  },
  {
   "cell_type": "markdown",
   "metadata": {},
   "source": [
    "**<font color='green'>提示</font>**：`model.fit()` 方法可以用于训练模型。"
   ]
  },
  {
   "cell_type": "code",
   "execution_count": null,
   "metadata": {},
   "outputs": [],
   "source": [
    "from sklearn.linear_model import LinearRegression\n",
    "\n",
    "### 代码开始 ### (≈ 2 行代码)\n",
    "model = None\n",
    "\n",
    "### 代码结束 ###"
   ]
  },
  {
   "cell_type": "markdown",
   "metadata": {},
   "source": [
    "**运行测试：**"
   ]
  },
  {
   "cell_type": "code",
   "execution_count": null,
   "metadata": {},
   "outputs": [],
   "source": [
    "model.coef_[:3], len(model.coef_)"
   ]
  },
  {
   "cell_type": "markdown",
   "metadata": {},
   "source": [
    "**期望输出：**"
   ]
  },
  {
   "cell_type": "markdown",
   "metadata": {},
   "source": [
    "<div align=\"center\">**`(array([  6.59398431, 299.47265083, 371.60427218]), 9)`**</div>"
   ]
  },
  {
   "cell_type": "markdown",
   "metadata": {},
   "source": [
    "### 模型评价"
   ]
  },
  {
   "cell_type": "markdown",
   "metadata": {},
   "source": [
    "在线性回归教程中，我们提供了两种回归预测结果的评价指标，分别是平均绝对误差 $MAE$ 和均方误差 $MSE$。本次练习中，我们另介绍一种评价指标，那就是**平均绝对百分比误差 $MAPE$**。\n",
    "\n",
    "$MAPE$ 是 $MAD$ 的变形，它是一个百分比值，因此比其他统计量更容易理解。例如，如果 $MAPE$ 为 $5$，则表示预测结果较真实结果平均偏离 $5%$。$MAPE$ 的计算公式如下："
   ]
  },
  {
   "cell_type": "markdown",
   "metadata": {},
   "source": [
    "\\begin{equation}\n",
    "\\textrm{MAPE}(y, \\hat{y} ) = \\frac{\\sum_{i=1}^{n}{|\\frac{y_{i}-\\hat y_{i}}{y_{i}}|}}{n} \\times 100 \\tag{1}\n",
    "\\end{equation}\n",
    "\n",
    "其中，$y_{i}$ 表示真实值，$\\hat y_{i}$ 表示预测值，$n$ 则表示值的个数。$MAPE$ 的值越小，说明预测模型拥有更好的精确度。"
   ]
  },
  {
   "cell_type": "markdown",
   "metadata": {},
   "source": [
    "**<font color='red'>练习</font>**：使用 NumPy 实现 $MAPE$ 计算函数。"
   ]
  },
  {
   "cell_type": "markdown",
   "metadata": {},
   "source": [
    "**<font color='green'>提示</font>**：`np.abs()` 方法可以用于计算绝对值。"
   ]
  },
  {
   "cell_type": "code",
   "execution_count": null,
   "metadata": {},
   "outputs": [],
   "source": [
    "import numpy as np\n",
    "\n",
    "def mape(y_true, y_pred):\n",
    "    \"\"\"\n",
    "    参数:\n",
    "    y_true -- 测试集目标真实值\n",
    "    y_pred -- 测试集目标预测值\n",
    "    \n",
    "    返回:\n",
    "    mape -- MAPE 评价指标\n",
    "    \"\"\"\n",
    "    \n",
    "    ### 代码开始 ### (≈ 2 行代码)\n",
    "    \n",
    "    mape = None\n",
    "    ### 代码结束 ###\n",
    "    \n",
    "    return mape"
   ]
  },
  {
   "cell_type": "markdown",
   "metadata": {},
   "source": [
    "**运行测试：**"
   ]
  },
  {
   "cell_type": "code",
   "execution_count": null,
   "metadata": {},
   "outputs": [],
   "source": [
    "y_true = test_y.values\n",
    "y_pred = model.predict(test_x)\n",
    "mape(y_true, y_pred)"
   ]
  },
  {
   "cell_type": "markdown",
   "metadata": {},
   "source": [
    "**期望输出：**"
   ]
  },
  {
   "cell_type": "markdown",
   "metadata": {},
   "source": [
    "<div align=\"center\">**`45.5%`**</div>"
   ]
  },
  {
   "cell_type": "markdown",
   "metadata": {},
   "source": [
    "可以看到，最终得到的 $MAPE$ 值较大，意味着预测的偏移量较大。在线性回归教程中，我们提到预测结果较差的一个原因可能是数据没有经过预处理。除此之外，线性回归本身就是一种非常基础简单的预测方法。对于房价这种包含多个特征的预测问题，我们往往要使用更复杂的方法来进行回归预测才能得到更好的结果。"
   ]
  },
  {
   "cell_type": "markdown",
   "metadata": {},
   "source": [
    "---"
   ]
  }
 ],
 "metadata": {
  "kernelspec": {
   "display_name": "Python 3",
   "language": "python",
   "name": "python3"
  },
  "language_info": {
   "codemirror_mode": {
    "name": "ipython",
    "version": 3
   },
   "file_extension": ".py",
   "mimetype": "text/x-python",
   "name": "python",
   "nbconvert_exporter": "python",
   "pygments_lexer": "ipython3",
   "version": "3.6.4"
  }
 },
 "nbformat": 4,
 "nbformat_minor": 2
}
