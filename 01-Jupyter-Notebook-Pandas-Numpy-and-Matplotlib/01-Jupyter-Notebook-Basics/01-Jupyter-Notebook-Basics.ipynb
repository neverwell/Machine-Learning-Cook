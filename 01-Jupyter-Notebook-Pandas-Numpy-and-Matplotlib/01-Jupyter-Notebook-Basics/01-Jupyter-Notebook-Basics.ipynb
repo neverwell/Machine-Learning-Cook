{
 "cells": [
  {
   "cell_type": "markdown",
   "metadata": {},
   "source": [
    "# <font color='brown'>Machine-Learning-Cook</font>\n",
    "\n",
    "# 教程 1-1：Jupyter Notebook使用指南"
   ]
  },
  {
   "cell_type": "markdown",
   "metadata": {},
   "source": [
    "## 介绍\n",
    "\n",
    "Jupyter Notebook 是一个能运行 Python 代码的 Web 应用程序，它是目前进行机器学习实践的主流工具。"
   ]
  },
  {
   "cell_type": "markdown",
   "metadata": {},
   "source": [
    "### 知识点\n",
    "\n",
    "- Jupyter Notebook 介绍\n",
    "- Jupyter Notebook 的界面功能\n",
    "- Jupyter Notebook 的单元格用法\n",
    "- Jupyter Notebook 的常用快捷键"
   ]
  },
  {
   "cell_type": "markdown",
   "metadata": {},
   "source": [
    "### 环境\n",
    "\n",
    "- Jupyter Notebook\n",
    "- Python3.6"
   ]
  },
  {
   "cell_type": "markdown",
   "metadata": {},
   "source": [
    "### 目录索引\n",
    "\n",
    "- <a href=\"#1\">1. Jupyter Notebook 的诞生</a>\n",
    "- <a href=\"#2\">2. Jupyter Notebook 的使用</a>\n",
    "- <a href=\"#3\">3. Jupyter Notebook 的几个特点</a>\n",
    "- <a href=\"#4\">4. 重启内核</a>\n",
    "- <a href=\"#5\">5. 总结</a>"
   ]
  },
  {
   "cell_type": "markdown",
   "metadata": {},
   "source": [
    "## <a id = \"1\">1. Jupyter Notebook 的诞生</a>"
   ]
  },
  {
   "cell_type": "markdown",
   "metadata": {},
   "source": [
    "### 1.1 IPython\n",
    "\n",
    "如果你对 Python 比较熟悉，应该都听说过 IPython，它是一种基于 Python 的交互式解释器。相较于原生的 Python Shell，IPython 提供了更为强大的编辑和交互功能。\n",
    "\n",
    "![此处输入图片的描述](http://i4.bvimg.com/649601/b28b10498bbf59b8.png)"
   ]
  },
  {
   "cell_type": "markdown",
   "metadata": {},
   "source": [
    "### 1.2 IPython Notebook\n",
    "\n",
    "IPython 之后，就出现了 IPython Notebook，它完整地继承了 IPython 的交互式特性，同时以 Web 形式运行。IPython Notebook 的出现，让数据分析和机器学习的过程变得高效。\n",
    "\n",
    "![图片描述](http://i4.bvimg.com/649601/3235677e5c8fb46f.png)"
   ]
  },
  {
   "cell_type": "markdown",
   "metadata": {},
   "source": [
    "### 1.3 Jupyter Notebook\n",
    "\n",
    "再之后，在谷歌、微软等互联网巨头的赞助下，IPython Notebook 发展成为更加成熟和完善的开源项目，并更名为 Jupyter Notebook。\n",
    "\n",
    "![此处输入图片的描述](http://i4.bvimg.com/649601/35509936c66c88e6.png)\n",
    "\n",
    "Jupyter Notebook 已经成为现代处理数据的必备工具。从数据清理、数据可视化、数据分析，再到后面的建立机器学习或深度学习模型，都可以在 Jupyter Notebook 完成。同时，Jupyter Notebook 可以保留代码运行后的结果，方便内容的传播，以及回顾做过的工作。"
   ]
  },
  {
   "cell_type": "markdown",
   "metadata": {},
   "source": [
    "## <a id = \"2\">2. Jupyter Notebook 的使用</a>\n",
    "\n",
    "Jupyter Notebook 非常容易上手，下面就手把手教你 Jupyter Notebook 的正确使用方法。"
   ]
  },
  {
   "cell_type": "markdown",
   "metadata": {},
   "source": [
    "### 2.1 单元格\n",
    "\n",
    "内容结构中最基本的组成单位被称之为单元格，一个教程由若干个单元格按顺序构成。如下图所示，当你使用鼠标在教程界面<font color='brown'>单击</font>时，就会选中相应的单元格，被处于选中状态的单元格的左侧会出现一条蓝色的竖线。\n",
    "\n",
    "![此处输入图片的描述](http://i4.bvimg.com/649601/2a856392986d204f.png)"
   ]
  },
  {
   "cell_type": "markdown",
   "metadata": {},
   "source": [
    "### 2.2 单元格的两种模式\n",
    "\n",
    "每一个单元格会有两种模式，分别是 Markdown（文本） 和 Code（代码）。在本教程中，内容都是以 Markdown 单元格展示，而需要动手练习的代码将在 Code 单元格中执行。\n",
    "\n",
    "如何判断一个单元格是 Markdown 单元格，还是 Code 单元格？选中目标单元格之后查看上面的菜单栏。\n",
    "\n",
    "![此处输入图片的描述](http://i4.bvimg.com/649601/037877d50da657f8.png)"
   ]
  },
  {
   "cell_type": "markdown",
   "metadata": {},
   "source": [
    "### 2.3 运行代码\n",
    "\n",
    "那么如何书写代码并执行一个单元格呢？这一切都是在 Code 单元格中完成。如下图所示，当你在 Code 单元格中书写 `print('hello, world!')` 时，可以通过快捷键 `Shift + Enter` 来运行。，相应的代码就会立即执行，并在单元格的下方显示输出内容。\n",
    "\n",
    "![图片描述](http://i4.bvimg.com/649601/1ac95a0f794fd84b.png)"
   ]
  },
  {
   "cell_type": "code",
   "execution_count": null,
   "metadata": {},
   "outputs": [],
   "source": [
    "# 选中单元格，并按 Shift + Enter\n",
    "print('hello world!')"
   ]
  },
  {
   "cell_type": "markdown",
   "metadata": {},
   "source": [
    "你所看到的教程中的文档内容，都书写在 Markdown 单元格中。如果你一不小心双击了相应单元格进入到编辑状态。不用担心，选中相应单元格，并同样使用快捷键 `Shift + Enter` 执行，就可以恢复到先前的状态。\n",
    "\n",
    "---\n",
    "<font color='brown'>**双击我，然后再按 `Shift + Enter` **</font>"
   ]
  },
  {
   "cell_type": "markdown",
   "metadata": {},
   "source": [
    "## <a id = \"3\">3. Jupyter Notebook 的几个特点</a>"
   ]
  },
  {
   "cell_type": "markdown",
   "metadata": {},
   "source": [
    "### 3.1 单元格执行顺序\n",
    "\n",
    "无论是 Markdown 单元格，还是 Code 单元格，它们在教程中都是按照从上到下的顺序依次执行的。后面的单元格需要等待前面的单元格执行完成后，才能继续执行。执行完成的单元格左侧会出现 `In [序号]` 的标志，例如：\n",
    "\n",
    "![图片描述](http://i4.fuimg.com/649601/4e8c22798f2a404e.png)"
   ]
  },
  {
   "cell_type": "markdown",
   "metadata": {},
   "source": [
    "**☞ 动手尝试：**"
   ]
  },
  {
   "cell_type": "code",
   "execution_count": null,
   "metadata": {},
   "outputs": [],
   "source": [
    "a = 2\n",
    "b = 1"
   ]
  },
  {
   "cell_type": "code",
   "execution_count": null,
   "metadata": {},
   "outputs": [],
   "source": [
    "# 需要先执行上方单元格给 a,b 变量赋值才能执行\n",
    "a * b"
   ]
  },
  {
   "cell_type": "markdown",
   "metadata": {},
   "source": [
    "在 Jupyter Notebook 中，`print()` 打印操作并不是必须的。例如上方的单元格, `a + b` 就能输出结果。"
   ]
  },
  {
   "cell_type": "markdown",
   "metadata": {},
   "source": [
    "### 3.2 代码提示\n",
    "\n",
    "当我们在写代码的时候，代码自动提示可以极大地节省时间。在 Jupyter Notebook 中，可以通过 `Tab` 键激活代码提示功能。"
   ]
  },
  {
   "cell_type": "code",
   "execution_count": null,
   "metadata": {},
   "outputs": [],
   "source": [
    "# 当我们在使用 import 导入模块时，只需输入 im ，然后按 Tab 键，会弹出代码提示框\n",
    "im"
   ]
  },
  {
   "cell_type": "markdown",
   "metadata": {},
   "source": [
    "### 3.3 函数使用建议\n",
    "\n",
    "对于一个陌生的函数不够了解，那么可以通过 `shift + tab` 快捷键查看使用建议。"
   ]
  },
  {
   "cell_type": "code",
   "execution_count": null,
   "metadata": {},
   "outputs": [],
   "source": [
    "# 运行导入 random 模块\n",
    "import random"
   ]
  },
  {
   "cell_type": "code",
   "execution_count": null,
   "metadata": {},
   "outputs": [],
   "source": [
    "# 鼠标点击至 random.randint 并按 shift + tab 查看使用建议\n",
    "random.randint"
   ]
  },
  {
   "cell_type": "markdown",
   "metadata": {},
   "source": [
    "你应该能看到如下的函数介绍气泡内容：\n",
    "![图片描述](http://i2.tiimg.com/649601/ef67e01d347e2216.png)"
   ]
  },
  {
   "cell_type": "markdown",
   "metadata": {},
   "source": [
    "### 3.4 单元格的执行状态\n",
    "\n",
    "对于复杂度高的代码，往往会意味着更长的执行等待时间。在 Jupyter Notebook 中，当一个单元格处于执行状态时，单元格前面会出现 `In [*]` 符号，只有执行完成的单元格, `[]` 中的 `*` 才会变成相应的 `序号`。\n",
    "\n",
    "除此之外，你可以通过页面右上角的 Kernel 状态指示器判断内核占用情况。如果 Python 字符右边出现了实心圆圈 ◉，代表内核处于占有状态。而空心圆圈 ◯ 则代表内核处于空闲状态。"
   ]
  },
  {
   "cell_type": "markdown",
   "metadata": {},
   "source": [
    "## <a id = \"4\">4. 重启内核</a>\n",
    "\n",
    "有些时候，当你在运行复杂的代码时，可能会造成环境资源占用大而在 Jupyter Notebook 出现「假死」的现象。在遇到这种情况时，你可能不希望重新关闭再打开页面，那么可以执行「重启 Jupyter Notebook 内核」操作。重启内核需要使用到隐藏命令：\n",
    "\n",
    "1. 退出单元格编辑状态。\n",
    "2. 按下 `P` 键，调出 Jupyter Notebook 命令栏。\n",
    "3. 在命令栏中输入并选中 `restart kernel` 命令。\n",
    "\n",
    "![](http://i2.tiimg.com/649601/429637c5b62027d4.png)\n",
    "\n",
    "执行 `restart kernel` 或 `restart kernel and clear output` 命令后，如果全部代码单元格的状态都变为 `In []`（执行后留下的数字消失），即代表内核重启成功。由于机器学习很多算法较为复杂，本身执行时间长。<font color='brown'>所以，大多数情况下都无需重启内核，否则又需要将之前的单元格全部重新执行一遍。</font>"
   ]
  },
  {
   "cell_type": "markdown",
   "metadata": {},
   "source": [
    "## <a id = \"5\">5. 教程总结</a>\n",
    "\n",
    "在本教程中，我们学习了 Jupyter Notebook 的基本使用技巧，这对后续的学习非常重要。正如前面所说，Jupyter Notebook 在数据科学、机器学习、深度学习领域非常的流行，熟练运用 Jupyter Notebook 将为未来的学习工作提供极大便利。最后，总结常用快捷键如下：\n",
    "\n",
    "- `H`：查看所有快捷键\n",
    "- `S`：保存当前 Jupyter Notebook 内容\n",
    "- `P`：调出 Jupyter Notebook 命令栏\n",
    "- `B`：在当前单元格下方新建空白单元格\n",
    "- `M`：将单元格格式转换为 Markdown\n",
    "- `Y`：将单元格格式转换为 Code\n",
    "- `D`+`D`：删除当前单元格\n",
    "- `Shift + Enter`：运行当前单元格内容"
   ]
  },
  {
   "cell_type": "markdown",
   "metadata": {},
   "source": [
    "---"
   ]
  }
 ],
 "metadata": {
  "kernelspec": {
   "display_name": "Python 3",
   "language": "python",
   "name": "python3"
  },
  "language_info": {
   "codemirror_mode": {
    "name": "ipython",
    "version": 3
   },
   "file_extension": ".py",
   "mimetype": "text/x-python",
   "name": "python",
   "nbconvert_exporter": "python",
   "pygments_lexer": "ipython3",
   "version": "3.6.4"
  }
 },
 "nbformat": 4,
 "nbformat_minor": 2
}
