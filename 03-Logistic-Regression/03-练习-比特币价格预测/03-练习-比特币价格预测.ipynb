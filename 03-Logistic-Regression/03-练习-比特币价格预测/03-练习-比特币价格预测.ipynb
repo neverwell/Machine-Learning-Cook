{
 "cells": [
  {
   "cell_type": "markdown",
   "metadata": {},
   "source": [
    "# <font color='brown'>Machine-Learning-Cook</font>\n",
    "\n",
    "# 练习 3-2：比特币价格预测"
   ]
  },
  {
   "cell_type": "markdown",
   "metadata": {},
   "source": [
    "## 练习介绍"
   ]
  },
  {
   "cell_type": "markdown",
   "metadata": {},
   "source": [
    "![](http://i1.fuimg.com/649601/9c1058588dd73666.png)"
   ]
  },
  {
   "cell_type": "markdown",
   "metadata": {},
   "source": [
    "> 比特币（英语：Bitcoin，缩写：BTC）被部分观点认为是一种去中心化，非普遍全球可支付的电子加密货币，而多数国家则认为比特币属于虚拟商品，并非货币。比特币由中本聪（化名）于 2009 年 1 月 3 日，基于无国界的对等网络，用共识主动性开源软件发明创立。自比特币出现至今为止，比特币一直是目前法币市场总值最高的加密货币。([维基百科](https://zh.wikipedia.org/wiki/%E6%AF%94%E7%89%B9%E5%B8%81))\n",
    "\n",
    "一段时间以来，比特币的价值饱受质疑。有人认为是严重的「泡沫」，也有人认为是物有所值。但无论哪一种观点，我们都见证了比特币暴涨暴跌。本次练习收集到了 `2010-2018` 年比特币历史数据。其中包含交易价格、区块数量、交易费率等信息。我们将尝试使用多项式回归和岭回归方法来预测比特币价格变化趋势。"
   ]
  },
  {
   "cell_type": "markdown",
   "metadata": {},
   "source": [
    "## 练习知识点"
   ]
  },
  {
   "cell_type": "markdown",
   "metadata": {},
   "source": [
    "- 使用 Pandas 数据处理\n",
    "- 使用 Matplotlib 绘图\n",
    "- 使用 scikit-learn 训练多项式回归预测模型"
   ]
  },
  {
   "cell_type": "markdown",
   "metadata": {},
   "source": [
    "---"
   ]
  },
  {
   "cell_type": "markdown",
   "metadata": {},
   "source": [
    "## 练习内容"
   ]
  },
  {
   "cell_type": "markdown",
   "metadata": {},
   "source": [
    "### 数据准备"
   ]
  },
  {
   "cell_type": "markdown",
   "metadata": {},
   "source": [
    "首先，需要导入比特币历史数据集，并预览数据集前 5 行。数据集名称为 `test-2-bitcoin.csv`。"
   ]
  },
  {
   "cell_type": "markdown",
   "metadata": {},
   "source": [
    "**<font color='red'>练习</font>**：使用 Pandas 加载数据集 CSV 文件，并预览前 `5` 行数据。"
   ]
  },
  {
   "cell_type": "code",
   "execution_count": null,
   "metadata": {},
   "outputs": [],
   "source": [
    "import pandas as pd\n",
    "\n",
    "### 代码开始 ### (≈ 2 行代码)\n",
    "df = None\n",
    "### 代码结束 ###"
   ]
  },
  {
   "cell_type": "markdown",
   "metadata": {},
   "source": [
    "**期望输出：**"
   ]
  },
  {
   "cell_type": "markdown",
   "metadata": {},
   "source": [
    "<table border=\"1\" class=\"dataframe\">\n",
    "  <thead>\n",
    "    <tr style=\"text-align: right;\">\n",
    "      <th></th>\n",
    "      <th>Date</th>\n",
    "      <th>btc_market_price</th>\n",
    "      <th>btc_total_bitcoins</th>\n",
    "      <th>btc_market_cap</th>\n",
    "      <th>btc_trade_volume</th>\n",
    "      <th>btc_blocks_size</th>\n",
    "      <th>btc_avg_block_size</th>\n",
    "      <th>btc_n_orphaned_blocks</th>\n",
    "      <th>btc_n_transactions_per_block</th>\n",
    "      <th>btc_median_confirmation_time</th>\n",
    "      <th>...</th>\n",
    "      <th>btc_cost_per_transaction_percent</th>\n",
    "      <th>btc_cost_per_transaction</th>\n",
    "      <th>btc_n_unique_addresses</th>\n",
    "      <th>btc_n_transactions</th>\n",
    "      <th>btc_n_transactions_total</th>\n",
    "      <th>btc_n_transactions_excluding_popular</th>\n",
    "      <th>btc_n_transactions_excluding_chains_longer_than_100</th>\n",
    "      <th>btc_output_volume</th>\n",
    "      <th>btc_estimated_transaction_volume</th>\n",
    "      <th>btc_estimated_transaction_volume_usd</th>\n",
    "    </tr>\n",
    "  </thead>\n",
    "  <tbody>\n",
    "    <tr>\n",
    "      <th>0</th>\n",
    "      <td>2010-02-23 00:00:00</td>\n",
    "      <td>0.0</td>\n",
    "      <td>2110700.0</td>\n",
    "      <td>0.0</td>\n",
    "      <td>0.0</td>\n",
    "      <td>0.0</td>\n",
    "      <td>0.000216</td>\n",
    "      <td>0.0</td>\n",
    "      <td>1.0</td>\n",
    "      <td>0.0</td>\n",
    "      <td>...</td>\n",
    "      <td>25100.000000</td>\n",
    "      <td>0.0</td>\n",
    "      <td>252.0</td>\n",
    "      <td>252.0</td>\n",
    "      <td>42613.0</td>\n",
    "      <td>252.0</td>\n",
    "      <td>252.0</td>\n",
    "      <td>12600.0</td>\n",
    "      <td>50.0</td>\n",
    "      <td>0.0</td>\n",
    "    </tr>\n",
    "    <tr>\n",
    "      <th>1</th>\n",
    "      <td>2010-02-24 00:00:00</td>\n",
    "      <td>0.0</td>\n",
    "      <td>2120200.0</td>\n",
    "      <td>0.0</td>\n",
    "      <td>0.0</td>\n",
    "      <td>0.0</td>\n",
    "      <td>0.000282</td>\n",
    "      <td>0.0</td>\n",
    "      <td>1.0</td>\n",
    "      <td>0.0</td>\n",
    "      <td>...</td>\n",
    "      <td>179.245283</td>\n",
    "      <td>0.0</td>\n",
    "      <td>195.0</td>\n",
    "      <td>196.0</td>\n",
    "      <td>42809.0</td>\n",
    "      <td>196.0</td>\n",
    "      <td>196.0</td>\n",
    "      <td>14800.0</td>\n",
    "      <td>5300.0</td>\n",
    "      <td>0.0</td>\n",
    "    </tr>\n",
    "    <tr>\n",
    "      <th>2</th>\n",
    "      <td>2010-02-25 00:00:00</td>\n",
    "      <td>0.0</td>\n",
    "      <td>2127600.0</td>\n",
    "      <td>0.0</td>\n",
    "      <td>0.0</td>\n",
    "      <td>0.0</td>\n",
    "      <td>0.000227</td>\n",
    "      <td>0.0</td>\n",
    "      <td>1.0</td>\n",
    "      <td>0.0</td>\n",
    "      <td>...</td>\n",
    "      <td>1057.142857</td>\n",
    "      <td>0.0</td>\n",
    "      <td>150.0</td>\n",
    "      <td>150.0</td>\n",
    "      <td>42959.0</td>\n",
    "      <td>150.0</td>\n",
    "      <td>150.0</td>\n",
    "      <td>8100.0</td>\n",
    "      <td>700.0</td>\n",
    "      <td>0.0</td>\n",
    "    </tr>\n",
    "    <tr>\n",
    "      <th>3</th>\n",
    "      <td>2010-02-26 00:00:00</td>\n",
    "      <td>0.0</td>\n",
    "      <td>2136100.0</td>\n",
    "      <td>0.0</td>\n",
    "      <td>0.0</td>\n",
    "      <td>0.0</td>\n",
    "      <td>0.000319</td>\n",
    "      <td>0.0</td>\n",
    "      <td>1.0</td>\n",
    "      <td>0.0</td>\n",
    "      <td>...</td>\n",
    "      <td>64.582059</td>\n",
    "      <td>0.0</td>\n",
    "      <td>176.0</td>\n",
    "      <td>176.0</td>\n",
    "      <td>43135.0</td>\n",
    "      <td>176.0</td>\n",
    "      <td>176.0</td>\n",
    "      <td>29349.0</td>\n",
    "      <td>13162.0</td>\n",
    "      <td>0.0</td>\n",
    "    </tr>\n",
    "    <tr>\n",
    "      <th>4</th>\n",
    "      <td>2010-02-27 00:00:00</td>\n",
    "      <td>0.0</td>\n",
    "      <td>2144750.0</td>\n",
    "      <td>0.0</td>\n",
    "      <td>0.0</td>\n",
    "      <td>0.0</td>\n",
    "      <td>0.000223</td>\n",
    "      <td>0.0</td>\n",
    "      <td>1.0</td>\n",
    "      <td>0.0</td>\n",
    "      <td>...</td>\n",
    "      <td>1922.222222</td>\n",
    "      <td>0.0</td>\n",
    "      <td>176.0</td>\n",
    "      <td>176.0</td>\n",
    "      <td>43311.0</td>\n",
    "      <td>176.0</td>\n",
    "      <td>176.0</td>\n",
    "      <td>9101.0</td>\n",
    "      <td>450.0</td>\n",
    "      <td>0.0</td>\n",
    "    </tr>\n",
    "  </tbody>\n",
    "</table>"
   ]
  },
  {
   "cell_type": "markdown",
   "metadata": {},
   "source": [
    "可以看到，原数据集中包含的数据较多，本次挑战中只使用其中的 3 列，分布是：**比特币市场价格**、**比特币总量**、**比特币交易费用**。它们对应的列名依次为：`btc_market_price`，`btc_total_bitcoins`，`btc_transaction_fees`。"
   ]
  },
  {
   "cell_type": "markdown",
   "metadata": {},
   "source": [
    "---"
   ]
  },
  {
   "cell_type": "markdown",
   "metadata": {},
   "source": [
    "**<font color='red'>练习</font>**：分离出仅包含 `btc_market_price`，`btc_total_bitcoins`，`btc_transaction_fees` 列的 DataFrame，并定义为变量 `data`。"
   ]
  },
  {
   "cell_type": "code",
   "execution_count": null,
   "metadata": {},
   "outputs": [],
   "source": [
    "\"\"\"从原数据集中分离出需要的数据集（DataFrame）\n",
    "\"\"\"\n",
    "\n",
    "### 代码开始 ### (≈ 1 行代码)\n",
    "data = \n",
    "### 代码结束 ###"
   ]
  },
  {
   "cell_type": "markdown",
   "metadata": {},
   "source": [
    "**运行测试：**"
   ]
  },
  {
   "cell_type": "code",
   "execution_count": null,
   "metadata": {},
   "outputs": [],
   "source": [
    "data.head()"
   ]
  },
  {
   "cell_type": "markdown",
   "metadata": {},
   "source": [
    "**期望输出：**"
   ]
  },
  {
   "cell_type": "markdown",
   "metadata": {},
   "source": [
    "<table border=\"1\" class=\"dataframe\">\n",
    "  <thead>\n",
    "    <tr style=\"text-align: right;\">\n",
    "      <th></th>\n",
    "      <th>btc_market_price</th>\n",
    "      <th>btc_total_bitcoins</th>\n",
    "      <th>btc_transaction_fees</th>\n",
    "    </tr>\n",
    "  </thead>\n",
    "  <tbody>\n",
    "    <tr>\n",
    "      <th>0</th>\n",
    "      <td>0.0</td>\n",
    "      <td>2110700.0</td>\n",
    "      <td>0.0</td>\n",
    "    </tr>\n",
    "    <tr>\n",
    "      <th>1</th>\n",
    "      <td>0.0</td>\n",
    "      <td>2120200.0</td>\n",
    "      <td>0.0</td>\n",
    "    </tr>\n",
    "    <tr>\n",
    "      <th>2</th>\n",
    "      <td>0.0</td>\n",
    "      <td>2127600.0</td>\n",
    "      <td>0.0</td>\n",
    "    </tr>\n",
    "    <tr>\n",
    "      <th>3</th>\n",
    "      <td>0.0</td>\n",
    "      <td>2136100.0</td>\n",
    "      <td>0.0</td>\n",
    "    </tr>\n",
    "    <tr>\n",
    "      <th>4</th>\n",
    "      <td>0.0</td>\n",
    "      <td>2144750.0</td>\n",
    "      <td>0.0</td>\n",
    "    </tr>\n",
    "  </tbody>\n",
    "</table>"
   ]
  },
  {
   "cell_type": "markdown",
   "metadata": {},
   "source": [
    "下面，我们将 3 列数据，分别绘制在横向排列的 3 张子图中。"
   ]
  },
  {
   "cell_type": "markdown",
   "metadata": {},
   "source": [
    "---"
   ]
  },
  {
   "cell_type": "markdown",
   "metadata": {},
   "source": [
    "**<font color='red'>练习</font>**：分别绘制 `data` 数据集 3 列数据的线形图，并以横向子图排列。"
   ]
  },
  {
   "cell_type": "markdown",
   "metadata": {},
   "source": [
    "**<font color='brown'>要求</font>**：需设置各图横纵轴名称，横轴统一为 `time`，纵轴为各自列名称。"
   ]
  },
  {
   "cell_type": "markdown",
   "metadata": {},
   "source": [
    "**<font color='green'>提示</font>**：使用 `set_xlabel()` 设置横轴名称。"
   ]
  },
  {
   "cell_type": "code",
   "execution_count": null,
   "metadata": {},
   "outputs": [],
   "source": [
    "\"\"\"绘制数据图像\n",
    "\"\"\"\n",
    "\n",
    "%matplotlib inline\n",
    "from matplotlib import pyplot as plt\n",
    "\n",
    "fig, axes = plt.subplots(1, 3, figsize=(16,5))\n",
    "\n",
    "\n",
    "### 代码开始 ### (≈ 9 行代码)\n",
    "\n",
    "\n",
    "### 代码结束 ###"
   ]
  },
  {
   "cell_type": "markdown",
   "metadata": {},
   "source": [
    "**期望输出（可忽略颜色）：**"
   ]
  },
  {
   "cell_type": "markdown",
   "metadata": {},
   "source": [
    "<img width=\"600px\" src=\"http://i1.fuimg.com/649601/ec840421196bb27e.png\"></img>"
   ]
  },
  {
   "cell_type": "markdown",
   "metadata": {},
   "source": [
    "本次练习中，数据集的特征（features）是比特币总量和比特币交易费用，而目标值为比特币市场价格。所以，下面将数据集拆分为训练集和测试集。其中，训练集占 70%，而测试集占 30%。\n"
   ]
  },
  {
   "cell_type": "markdown",
   "metadata": {},
   "source": [
    "---"
   ]
  },
  {
   "cell_type": "markdown",
   "metadata": {},
   "source": [
    "**<font color='red'>练习</font>**：划分 `data` 数据集，使得训练集占 `70%`，而测试集占 `30%`。"
   ]
  },
  {
   "cell_type": "markdown",
   "metadata": {},
   "source": [
    "**<font color='brown'>要求</font>**：训练集特征、训练集目标、测试集特征、测试集目标分别定义为 `train_x`, `train_y`, `test_x`, `test_y`，并作为 `split_dataset()` 函数返回值。"
   ]
  },
  {
   "cell_type": "code",
   "execution_count": null,
   "metadata": {},
   "outputs": [],
   "source": [
    "\"\"\"划分数据集函数\n",
    "\"\"\"\n",
    "\n",
    "def split_dataset():\n",
    "    \"\"\"\n",
    "    参数:\n",
    "    无\n",
    "\n",
    "    返回:\n",
    "    train_x, train_y, test_x, test_y -- 训练集特征、训练集目标、测试集特征、测试集目标\n",
    "    \"\"\"\n",
    "    \n",
    "    ### 代码开始 ### (≈ 6 行代码)\n",
    "\n",
    "    \n",
    "    ### 代码结束 ###\n",
    "    \n",
    "    return train_x, train_y, test_x, test_y"
   ]
  },
  {
   "cell_type": "markdown",
   "metadata": {},
   "source": [
    "**运行测试：**"
   ]
  },
  {
   "cell_type": "code",
   "execution_count": null,
   "metadata": {},
   "outputs": [],
   "source": [
    "len(split_dataset()[0]), len(split_dataset()[1]), len(split_dataset()[2]), len(split_dataset()[3]), split_dataset()[0].shape, split_dataset()[1].shape, split_dataset()[2].shape, split_dataset()[3].shape"
   ]
  },
  {
   "cell_type": "markdown",
   "metadata": {},
   "source": [
    "**期望输出：**"
   ]
  },
  {
   "cell_type": "markdown",
   "metadata": {},
   "source": [
    "<div align=\"center\">**`(2043, 2043, 877, 877, (2043, 2), (2043, 1), (877, 2), (877, 1))`**</div>"
   ]
  },
  {
   "cell_type": "markdown",
   "metadata": {},
   "source": [
    "### 3 次多项式回归预测"
   ]
  },
  {
   "cell_type": "markdown",
   "metadata": {},
   "source": [
    "划分完训练数据和测试数据之后，就可以构建多项式回归预测模型。挑战要求使用 scikit-learn 完成。"
   ]
  },
  {
   "cell_type": "code",
   "execution_count": null,
   "metadata": {},
   "outputs": [],
   "source": [
    "# 加载必要模块\n",
    "from sklearn.preprocessing import PolynomialFeatures\n",
    "from sklearn.linear_model import LinearRegression\n",
    "from sklearn.metrics import mean_absolute_error\n",
    "\n",
    "# 加载数据\n",
    "train_x = split_dataset()[0]\n",
    "train_y = split_dataset()[1]\n",
    "test_x = split_dataset()[2]\n",
    "test_y = split_dataset()[3]"
   ]
  },
  {
   "cell_type": "markdown",
   "metadata": {},
   "source": [
    "---"
   ]
  },
  {
   "cell_type": "markdown",
   "metadata": {},
   "source": [
    "**<font color='red'>练习</font>**：构建 3 次多项式回归预测模型"
   ]
  },
  {
   "cell_type": "markdown",
   "metadata": {},
   "source": [
    "要求：使用 scikit-learn 构建 3 次多项式回归预测模型，并计算预测结果的 MAE 评价指标，同时作为 poly3() 函数返回值。"
   ]
  },
  {
   "cell_type": "code",
   "execution_count": null,
   "metadata": {},
   "outputs": [],
   "source": [
    "\"\"\"3 次多项式回归预测模型\n",
    "\"\"\"\n",
    "\n",
    "def poly3():\n",
    "    \n",
    "    \"\"\"\n",
    "    参数:\n",
    "    无\n",
    "\n",
    "    返回:\n",
    "    mae -- 预测结果的 MAE 评价指标\n",
    "    \"\"\"\n",
    "    \n",
    "    ### 代码开始 ### (≈ 7 行代码)\n",
    "\n",
    "    \n",
    "    ### 代码结束 ###\n",
    "    \n",
    "    return mae"
   ]
  },
  {
   "cell_type": "markdown",
   "metadata": {},
   "source": [
    "**运行测试：**"
   ]
  },
  {
   "cell_type": "code",
   "execution_count": null,
   "metadata": {},
   "outputs": [],
   "source": [
    "poly3()"
   ]
  },
  {
   "cell_type": "markdown",
   "metadata": {},
   "source": [
    "**期望输出：**"
   ]
  },
  {
   "cell_type": "markdown",
   "metadata": {},
   "source": [
    "<div align=\"center\">**`1955.8027790596564`**</div>"
   ]
  },
  {
   "cell_type": "markdown",
   "metadata": {},
   "source": [
    "### N 次多项式回归预测绘图"
   ]
  },
  {
   "cell_type": "markdown",
   "metadata": {},
   "source": [
    "接下来，针对不同的多项式次数，计算相应的 MSE 评价指标数值并绘图。"
   ]
  },
  {
   "cell_type": "markdown",
   "metadata": {},
   "source": [
    "---"
   ]
  },
  {
   "cell_type": "markdown",
   "metadata": {},
   "source": [
    "**<font color='red'>练习</font>**：计算 `1,2,...,10` 次多项式回归预测结果的 `MSE` 评价指标"
   ]
  },
  {
   "cell_type": "markdown",
   "metadata": {},
   "source": [
    "**<font color='brown'>要求</font>**：使用 scikit-learn 构建 N 次多项式回归预测模型，并计算 `1-10` 次多项式预测结果的 MSE 评价指标，同时作为函数 `poly_plot(N)` 的返回值。"
   ]
  },
  {
   "cell_type": "code",
   "execution_count": null,
   "metadata": {},
   "outputs": [],
   "source": [
    "\"\"\"N 次多项式回归预测模型\n",
    "\"\"\"\n",
    "\n",
    "from sklearn.pipeline import make_pipeline\n",
    "from sklearn.metrics import mean_squared_error\n",
    "\n",
    "def poly_plot(N):\n",
    " \n",
    "    \"\"\"\n",
    "    参数:\n",
    "    N -- 标量, 多项式次数\n",
    "\n",
    "    返回:\n",
    "    mse -- N 次多项式预测结果的 MSE 评价指标列表\n",
    "    \"\"\"\n",
    "    \n",
    "    m = 1\n",
    "    mse = []\n",
    "    \n",
    "    ### 代码开始 ### (≈ 6 行代码)\n",
    "\n",
    "    \n",
    "    ### 代码结束 ###\n",
    "    \n",
    "    return mse"
   ]
  },
  {
   "cell_type": "markdown",
   "metadata": {},
   "source": [
    "**运行测试：**"
   ]
  },
  {
   "cell_type": "code",
   "execution_count": null,
   "metadata": {},
   "outputs": [],
   "source": [
    "poly_plot(10)[:10:3]"
   ]
  },
  {
   "cell_type": "markdown",
   "metadata": {},
   "source": [
    "**期望输出（结果可能会稍有出入）：**"
   ]
  },
  {
   "cell_type": "markdown",
   "metadata": {},
   "source": [
    "<div align=\"center\">**`[24171680.63629423, 23772159.453013, 919854753.0234015, 3708858661.222856]`**</div>"
   ]
  },
  {
   "cell_type": "markdown",
   "metadata": {},
   "source": [
    "---"
   ]
  },
  {
   "cell_type": "markdown",
   "metadata": {},
   "source": [
    "**<font color='red'>练习</font>**：将 `MSE` 评价指标绘制成线型图"
   ]
  },
  {
   "cell_type": "markdown",
   "metadata": {},
   "source": [
    "**<font color='brown'>要求</font>**：将 `poly_plot(10)` 返回的 `MSE` 列表绘制成组合图（线形图+散点图）。其中，线型图为红色。"
   ]
  },
  {
   "cell_type": "code",
   "execution_count": null,
   "metadata": {},
   "outputs": [],
   "source": [
    "mse = poly_plot(10)\n",
    "\n",
    "### 代码开始 ### (≈ 2 行代码)\n",
    "\n",
    "### 代码结束 ###\n",
    "\n",
    "plt.title(\"MSE\")\n",
    "plt.xlabel(\"N\")\n",
    "plt.ylabel(\"MSE\")"
   ]
  },
  {
   "cell_type": "markdown",
   "metadata": {},
   "source": [
    "**期望输出：**"
   ]
  },
  {
   "cell_type": "markdown",
   "metadata": {},
   "source": [
    "![](http://i1.fuimg.com/649601/b141489cc9051f45.png)"
   ]
  },
  {
   "cell_type": "markdown",
   "metadata": {},
   "source": [
    "---"
   ]
  }
 ],
 "metadata": {
  "kernelspec": {
   "display_name": "Python 3",
   "language": "python",
   "name": "python3"
  },
  "language_info": {
   "codemirror_mode": {
    "name": "ipython",
    "version": 3
   },
   "file_extension": ".py",
   "mimetype": "text/x-python",
   "name": "python",
   "nbconvert_exporter": "python",
   "pygments_lexer": "ipython3",
   "version": "3.6.4"
  }
 },
 "nbformat": 4,
 "nbformat_minor": 2
}
